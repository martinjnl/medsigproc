{
 "cells": [
  {
   "cell_type": "markdown",
   "id": "4e37c8e4-d566-4ece-a535-8b52d741e232",
   "metadata": {},
   "source": [
    "<h1>Extras - Basic Low Pass Filtering in Python</h1>\n",
    "\n",
    "Some extra material for the exercise in Lab 5 of CM2015 Project Carrier Course, Part 1 at KTH Royal Institute of Technology.\n",
    "\n",
    "This Jupyter notebook uses Python, Numpy, Matplotlib, and sometimes SciPy. To use these packages we need to import them first."
   ]
  },
  {
   "cell_type": "code",
   "execution_count": null,
   "id": "b2ebc1a0-154b-4b2d-ae11-a8078504d6b4",
   "metadata": {},
   "outputs": [],
   "source": [
    "import numpy as np\n",
    "import matplotlib.pyplot as plt\n",
    "from scipy import signal as sg"
   ]
  },
  {
   "cell_type": "code",
   "execution_count": null,
   "id": "23ee50c9-40af-446a-906c-4b4327d1f268",
   "metadata": {},
   "outputs": [],
   "source": [
    "# Here we borrow a signal from LPFilter.ipynb\n",
    "\n",
    "signal = [1.070, 1.070, 1.073, 1.077, 1.077, 1.076, 1.076, 1.076, 1.076, 1.076, 1.076, 1.076, 1.076, 1.076, 1.078,\n",
    "          1.082, 1.085, 1.087, 1.089, 1.091, 1.095, 1.099, 1.103, 1.107, 1.109, 1.109, 1.111, 1.118, 1.133, 1.162,\n",
    "          1.215, 1.296, 1.409, 1.547, 1.709, 1.882, 2.056, 2.220, 2.367, 2.478, 2.564, 2.644, 2.713, 2.768, 2.812,\n",
    "          2.847, 2.873, 2.893, 2.908, 2.918, 2.925, 2.928, 2.923, 2.912, 2.903, 2.893, 2.881, 2.863, 2.841, 2.813,\n",
    "          2.782, 2.747, 2.706, 2.660, 2.613, 2.562, 2.503, 2.435, 2.358, 2.275, 2.188, 2.101, 2.016, 1.935, 1.861,\n",
    "          1.798, 1.743, 1.701, 1.669, 1.638, 1.610, 1.585, 1.561, 1.538, 1.515, 1.494, 1.473, 1.453, 1.431, 1.413,\n",
    "          1.396, 1.377, 1.359, 1.339, 1.320, 1.300, 1.282, 1.265, 1.249, 1.234, 1.219, 1.206, 1.196, 1.189, 1.178,\n",
    "          1.167, 1.156, 1.147, 1.137, 1.129, 1.123, 1.117, 1.112, 1.108, 1.106, 1.106, 1.103, 1.100, 1.096, 1.091,\n",
    "          1.087, 1.084, 1.082, 1.081, 1.081]\n",
    "\n",
    "S = np.array(signal + signal + signal)\n",
    "X = np.arange(len(S)) / 125.0"
   ]
  },
  {
   "cell_type": "markdown",
   "id": "5f83ebc5-c522-4cb4-928f-fccba5eca003",
   "metadata": {},
   "source": [
    "# Padding\n",
    "\n",
    "When we apply a FIR filter to a signal that is not infinite in both directions, we will end up with the problem of not having all values.  The example below illustrates the problem. Try to explain to yourself what is happening in the beginning of the filtered signal. Why does it look off?\n",
    "\n",
    "We call this a border effect. A way to deal with this is padding. Padding essentially means that we invent values for the missing signal parts, extending it for the sake of the filter."
   ]
  },
  {
   "cell_type": "code",
   "execution_count": null,
   "id": "f26aa9d2-04bc-426d-8892-3254fe585860",
   "metadata": {},
   "outputs": [],
   "source": [
    "def lfilter_padding(b, a, x, pad_width=0, mode='constant', **kwargs):\n",
    "    \"\"\"This function applies a causual filter but with padding before.\"\"\"\n",
    "    if pad_width > 0:\n",
    "        x = np.pad(x, pad_width, mode=mode, **kwargs)\n",
    "    \n",
    "    y = sg.lfilter(b, a, x)\n",
    "    return y[pad_width:-pad_width] if pad_width > 0 else y\n",
    "\n",
    "# A simple moving average filter with length M\n",
    "M = 75\n",
    "h = np.ones(M)/float(M)  # The filter coefficients\n",
    "\n",
    "# Apply the filter to the signal, with different padding modes\n",
    "y1 = lfilter_padding(h,1,S, pad_width=125, mode='constant', constant_values=0)\n",
    "y2 = lfilter_padding(h,1,S, pad_width=125, mode='edge')\n",
    "y3 = lfilter_padding(h,1,S, pad_width=125, mode='reflect')\n",
    "y4 = lfilter_padding(h,1,S, pad_width=125, mode='wrap')\n",
    "\n",
    "\n",
    "fig = plt.figure(figsize=(14,6))\n",
    "plt.axes().set_aspect(0.25)\n",
    "plt.plot(X,S,'-')\n",
    "plt.plot(X,y1,'-', label='zero padding')\n",
    "plt.plot(X,y2,'-', label='edge padding')\n",
    "plt.plot(X,y3,'-', label='reflect padding')\n",
    "plt.plot(X,y4,'-', label='wrap padding')\n",
    "plt.grid()\n",
    "plt.legend()\n",
    "plt.show()"
   ]
  },
  {
   "cell_type": "code",
   "execution_count": null,
   "id": "8c7c305f",
   "metadata": {},
   "outputs": [],
   "source": [
    "# Let's look at the different padding modes:\n",
    "\n",
    "S_padded1 = np.pad(S, 125, mode='constant', constant_values=0)\n",
    "S_padded2 = np.pad(S, 125, mode='edge')\n",
    "S_padded3 = np.pad(S, 125, mode='mean')\n",
    "S_padded4 = np.pad(S, 125, mode='reflect')\n",
    "S_padded5 = np.pad(S, 125, mode='wrap')\n",
    "\n",
    "X_padded = np.arange(len(S_padded1)) / 125.0 - 1.0\n",
    "\n",
    "fig = plt.figure(figsize=(14,6))\n",
    "plt.axes().set_aspect(0.25)\n",
    "plt.plot(X[:125], S[:125],'-', label='signal')\n",
    "plt.plot(X_padded[:126], S_padded1[:126],'--', label='zero padding')\n",
    "plt.plot(X_padded[:126], S_padded2[:126],'--', label='edge padding')\n",
    "plt.plot(X_padded[:126], S_padded3[:126],'--', label='mean padding')\n",
    "plt.plot(X_padded[:126], S_padded4[:126],'--', label='reflect padding')\n",
    "plt.plot(X_padded[:126], S_padded5[:126],'--', label='wrap padding')\n",
    "plt.grid()\n",
    "plt.legend()\n",
    "plt.show()"
   ]
  },
  {
   "cell_type": "markdown",
   "id": "a5ac2ac1",
   "metadata": {},
   "source": [
    "In this case, the *wrap padding* is probably the best padding. But that is due to the periodic signal that we have and that our array contains an exact multiple of exactly one period. If that is not the case, other paddings might be better."
   ]
  },
  {
   "cell_type": "markdown",
   "id": "c6ff6c79-8d74-45b1-9398-f6cc75e97f20",
   "metadata": {},
   "source": [
    "# Why a filter with bell shaped coefficients is useful\n",
    "\n",
    "Again, let's go back to our noise from LPFilter.ipynb. We add artificial noise at 15 Hz and 40 Hz. Let's plot it again.\n",
    "\n",
    "Our task is now to try to eliminate the noise using filtering."
   ]
  },
  {
   "cell_type": "code",
   "execution_count": null,
   "id": "5eaab888-a6f9-40d7-ae66-94ec5fa7639d",
   "metadata": {},
   "outputs": [],
   "source": [
    "# Just plot the signal again and with the noise added\n",
    "\n",
    "f=40 #Hz\n",
    "N = 0.2*np.cos(2*np.pi*f*X)\n",
    "f=15\n",
    "N += 0.1*np.cos(2*np.pi*f*X)\n",
    "\n",
    "# Draw the signal with and without noise\n",
    "fig = plt.figure(figsize=(14,6))\n",
    "ax = plt.axes()\n",
    "ax.set_aspect(0.25)\n",
    "plt.plot(X, S+N, '-', label='with noise')\n",
    "plt.plot(X, S, '-', label='no noise')\n",
    "ax.legend(loc='upper right')\n",
    "plt.grid()\n",
    "plt.show()"
   ]
  },
  {
   "cell_type": "markdown",
   "id": "53633a5c",
   "metadata": {},
   "source": [
    "The noise that we added have frequncies of 40 Hz and 15 Hz. If we know that we have noise of only a single frequency, we can design a moving average specifically for those frequencies. A moving average of size $M_1 = \\frac{125}{40} \\approx 3$ and $M_2 = \\frac{125}{15} \\approx 8$ should do a good job, since they average over (almost) exactly one full noise period. This is the same reason as finding the right $M$ for question B in LPFilter.ipynb.\n",
    "\n",
    "We can apply one filter after the other using convolution.  However, the combination of FIR filters is also a FIR filter with:\n",
    "\n",
    "$$h_{a+b} = (h_a * h_b)$$\n",
    "\n",
    "since convolution is associative. I.e., $ (y * (h_a * h_b)) = ((y * h_a) * h_b)$. \n",
    "\n",
    "**Proof**: Ask ChatGPT: \"Show that discrete convolution is associative\".\n",
    "\n",
    "In the example below, we create two FIR filters (both moving average, one for filtering out the 15 Hz noise and one for the 40 Hz noise) and apply them one after each other (y1). Then we combine the two FIR filters into one combined filter (using convolution) and apply the combined filter to the signal (y2). Both will yield the same output. And the noise is gone in both cases."
   ]
  },
  {
   "cell_type": "code",
   "execution_count": null,
   "id": "ad670fdc",
   "metadata": {},
   "outputs": [],
   "source": [
    "# Moving average filters\n",
    "ha = np.ones(3)/3\n",
    "hb = np.ones(8)/8\n",
    "\n",
    "# Combine the two filters using convolution\n",
    "hab = np.convolve(ha, hb)\n",
    "\n",
    "# Both these are identical\n",
    "y1 = np.convolve(np.convolve(S+N, ha, mode='same'), hb, mode='same')\n",
    "y2 = np.convolve(S+N, hab, mode='same')\n",
    "\n",
    "fig = plt.figure(figsize=(14,6))\n",
    "ax = plt.axes()\n",
    "ax.set_aspect(0.25)\n",
    "plt.plot(X,y1,'-', label='2 FIRs')\n",
    "plt.plot(X,y2,'-', label='1 combined FIR')\n",
    "ax.legend(loc='upper right')\n",
    "plt.grid()\n",
    "plt.show()"
   ]
  },
  {
   "cell_type": "markdown",
   "id": "3e2d3688",
   "metadata": {},
   "source": [
    "However, the combined filter will only work for noise with 15 Hz and/or 40 Hz, but not as well if we have noise between 15 Hz and 40 Hz. In the example below, we have noise with $f=20$ Hz."
   ]
  },
  {
   "cell_type": "code",
   "execution_count": null,
   "id": "4738f417",
   "metadata": {},
   "outputs": [],
   "source": [
    "# Noise with f=20 Hz.\n",
    "f=20\n",
    "N2 = 0.2*np.cos(2*np.pi*f*X)\n",
    "\n",
    "y = np.convolve(S+N2, hab, mode='same')\n",
    "\n",
    "fig = plt.figure(figsize=(14,6))\n",
    "ax = plt.axes()\n",
    "ax.set_aspect(0.25)\n",
    "plt.plot(X,y,'-', label='2 FIRs')\n",
    "ax.legend(loc='upper right')\n",
    "plt.grid()\n",
    "plt.show()"
   ]
  },
  {
   "cell_type": "markdown",
   "id": "8496aefd",
   "metadata": {},
   "source": [
    "We can make a Bode plot of the filters to understand why they remove noise with specific frequencies. In particular around the 15 and 40 Hz marks, but not at the 20 Hz mark."
   ]
  },
  {
   "cell_type": "code",
   "execution_count": null,
   "id": "ef25fb71",
   "metadata": {},
   "outputs": [],
   "source": [
    "# Bode plot of the combined FIR filter\n",
    "\n",
    "wa, yfa = sg.freqz(ha, fs=125)\n",
    "wb, yfb = sg.freqz(hb, fs=125)\n",
    "wab, yfab = sg.freqz(hab, fs=125)\n",
    "\n",
    "fig = plt.figure(figsize=(14,6))\n",
    "plt.plot(wa, 20 * np.log10(abs(yfa)+1e-10))\n",
    "plt.plot(wa, 20 * np.log10(abs(yfb)+1e-10))\n",
    "plt.plot(wab, 20 * np.log10(abs(yfab)+1e-10))\n",
    "plt.plot([15,15],[-100,5], 'k--', label='15 Hz')\n",
    "plt.plot([20,20],[-100,5], 'k--', label='15 Hz')\n",
    "plt.plot([40,40],[-100,5], 'k--', label='15 Hz')\n",
    "plt.ylim(-100,5)\n",
    "plt.grid()\n",
    "plt.show()"
   ]
  },
  {
   "cell_type": "markdown",
   "id": "beeac085",
   "metadata": {},
   "source": [
    "**Question 1**: Create a moving average FIR filter for noise at 20 Hz in the same way as above. Combine this filter with the other two FIR filters above (ha and hb) using convolution. Then plot the filtered signal again.\n",
    "\n",
    "**Question 2**: Also plot the combined FIR filter (i.e., `plt.plot(h)`). Include both the figure and the code in your answer. Doesn't it look very similar to the sinc or hann functions? What happens if we combine additional FIR filters? Maybe for all frequencies between 15 and 40 Hz?"
   ]
  },
  {
   "cell_type": "code",
   "execution_count": null,
   "id": "fccd4b09",
   "metadata": {},
   "outputs": [],
   "source": [
    "# Moving average filters\n",
    "h3 = np.ones(3)/3\n",
    "h8 = np.ones(8)/8\n",
    "\n",
    "# Combine them\n",
    "h = np.convolve(h3, h8)\n",
    "\n",
    "# TODO: combine more moving average filters\n",
    "#h = np.convolve(h, np.ones(5)/5)\n",
    "# ...\n",
    "\n",
    "# Find the frequency response of the combined filter\n",
    "w, yf = sg.freqz(h, fs=125)\n",
    "\n",
    "fig1, (ax1,ax2) = plt.subplots(1,2,figsize=(18, 5))\n",
    "ax1.plot(h, label='h')\n",
    "ax1.set_title('Filter coefficients')\n",
    "ax1.grid()\n",
    "ax2.set_adjustable('datalim')\n",
    "ax2.plot(w, 20 * np.log10(abs(yf)+1e-10))\n",
    "ax2.set_title('Frequency response')\n",
    "ax2.grid()\n",
    "plt.show()"
   ]
  },
  {
   "cell_type": "markdown",
   "id": "6c3f0230",
   "metadata": {},
   "source": [
    "# Thanks for today!"
   ]
  }
 ],
 "metadata": {
  "kernelspec": {
   "display_name": "base",
   "language": "python",
   "name": "python3"
  },
  "language_info": {
   "codemirror_mode": {
    "name": "ipython",
    "version": 3
   },
   "file_extension": ".py",
   "mimetype": "text/x-python",
   "name": "python",
   "nbconvert_exporter": "python",
   "pygments_lexer": "ipython3",
   "version": "3.11.5"
  },
  "orig_nbformat": 4
 },
 "nbformat": 4,
 "nbformat_minor": 5
}
